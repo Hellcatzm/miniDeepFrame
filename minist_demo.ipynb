{
 "cells": [
  {
   "cell_type": "code",
   "execution_count": 25,
   "metadata": {
    "collapsed": false
   },
   "outputs": [],
   "source": [
    "import numpy as np\n",
    "\n",
    "class Sigmoid:\n",
    "    def forward(self, x):\n",
    "        self.x = x\n",
    "        return 1./(1.+np.exp(-x))\n",
    "\n",
    "    def backward(self, x_grad):\n",
    "        s = self.forward(self.x)\n",
    "        return s*(1-s) * x_grad\n",
    "\n",
    "class Tanh:\n",
    "    def forward(self, x):\n",
    "        self.x = x\n",
    "        return np.tanh(x)\n",
    "\n",
    "    def backward(self, x_grad):\n",
    "        e = self.forward(self.x)\n",
    "        return (1-e**2) * x_grad\n",
    "\n",
    "class Softmax:\n",
    "    def forward(self, input_tensor):\n",
    "        \"\"\"\n",
    "        input_tensor: [batch, class]\n",
    "        \"\"\"\n",
    "        exp_x = np.exp(input_tensor)\n",
    "        self.output = exp_x / np.expand_dims(np.sum(exp_x, axis=1), axis=1)\n",
    "        return self.output\n",
    "\n",
    "    def backward(self, output_grad):\n",
    "        \"\"\"\n",
    "        input_tensor: [batch, class]\n",
    "        \"\"\"\n",
    "        input_grad = np.zeros_like(self.output)\n",
    "\n",
    "        for b in range(self.output.shape[0]):\n",
    "            for c in range(self.output.shape[1]):\n",
    "                alpha = -self.output[b]\n",
    "                alpha[c] = 1 - self.output[b][c]\n",
    "                alpha *= output_grad[b]\n",
    "                input_grad[b, c] = np.sum(alpha * self.output[b, c])\n",
    "\n",
    "        return input_grad\n",
    "    \n",
    "\n",
    "class Layer:\n",
    "    def forward(self, *arge):\n",
    "        raise NotImplementedError()\n",
    "\n",
    "    def backward(self, *arge):\n",
    "        raise NotImplementedError()\n",
    "\n",
    "    def params(self):\n",
    "        raise NotImplementedError()\n",
    "\n",
    "    def params_grad(self):\n",
    "        raise NotImplementedError()\n",
    "\n",
    "\n",
    "class Dense(Layer):\n",
    "    def __init__(self, in_units, out_units, weight=None, bias=None):\n",
    "        self.in_units = in_units\n",
    "        self.out_units = out_units\n",
    "        # 初始化参数\n",
    "        if weight is not None:\n",
    "            assert weight.shape == (in_units, out_units), \"权重初始值有误\"\n",
    "            self.w = weight\n",
    "        else:\n",
    "            self.w = np.random.normal(size=(in_units, self.out_units))\n",
    "        if bias is not None:\n",
    "            assert bias.shape == (out_units,), \"偏移初始值有误\"\n",
    "            self.b = bias\n",
    "        else:\n",
    "            self.b = np.zeros(self.out_units)\n",
    "\n",
    "    def forward(self, input_tensor):\n",
    "        assert np.ndim(input_tensor) == 2 and \\\n",
    "               input_tensor.shape[1] == self.in_units, 'Input Tensor should with shape [batch, in_units]'\n",
    "        self.last_input = input_tensor\n",
    "        return np.dot(self.last_input, self.w) + self.b\n",
    "\n",
    "    def backward(self, output_grad):\n",
    "        self.grad_w = np.dot(self.last_input.T, output_grad)/output_grad.shape[0]\n",
    "        self.grad_b = np.mean(output_grad, axis=0)\n",
    "        return np.dot(output_grad, self.w.T)\n",
    "\n",
    "    def params(self):\n",
    "        return self.w, self.b\n",
    "\n",
    "    def params_grad(self):\n",
    "        try:\n",
    "            return self.grad_w, self.grad_b\n",
    "        except BaseException as e:\n",
    "            print(\"还没有生成梯度信息！\")"
   ]
  },
  {
   "cell_type": "code",
   "execution_count": 28,
   "metadata": {
    "collapsed": false
   },
   "outputs": [
    {
     "name": "stdout",
     "output_type": "stream",
     "text": [
      "Extracting ../../Mnist_data/train-images-idx3-ubyte.gz\n",
      "Extracting ../../Mnist_data/train-labels-idx1-ubyte.gz\n",
      "Extracting ../../Mnist_data/t10k-images-idx3-ubyte.gz\n",
      "Extracting ../../Mnist_data/t10k-labels-idx1-ubyte.gz\n"
     ]
    }
   ],
   "source": [
    "from tensorflow.examples.tutorials.mnist import input_data\n",
    "\n",
    "mnist = input_data.read_data_sets('../../Mnist_data/', one_hot=True)\n",
    "\n",
    "dense1 = Dense(784, 30)\n",
    "s1 = Sigmoid()\n",
    "dense2 = Dense(30, 10)\n",
    "s2 = Softmax()\n",
    "\n",
    "BARCH_SIZE = 10\n",
    "LEARNING_RATE = 3.\n",
    "\n",
    "loss_line = []\n",
    "acc_line = []\n",
    "for i in range(2000):\n",
    "    X_train, y_train = mnist.train.next_batch(BARCH_SIZE)\n",
    "    x = dense1.forward(X_train)\n",
    "    x = s1.forward(x)\n",
    "    x = dense2.forward(x)\n",
    "    x = s2.forward(x)\n",
    "    \n",
    "    l = x - y_train\n",
    "    if i % 50 == 0:\n",
    "        loss_line.append(np.mean(np.sum((l)**2)/x.shape[0]/2.))\n",
    "        acc = np.sum(np.argmax(x, axis=1)==np.argmax(y_train, axis=1))/len(y_train)\n",
    "        acc_line.append(acc)\n",
    "    \n",
    "    l = s2.backward(l)\n",
    "    l = dense2.backward(l)\n",
    "    l = s1.backward(l)\n",
    "    l = dense1.backward(l)\n",
    "    \n",
    "    for layer in [dense1, dense2]:\n",
    "        for param, param_grad in zip(layer.params(), layer.params_grad()):\n",
    "            param -= LEARNING_RATE * param_grad\n",
    "    "
   ]
  },
  {
   "cell_type": "code",
   "execution_count": 38,
   "metadata": {
    "collapsed": false
   },
   "outputs": [
    {
     "data": {
      "image/png": "[encoded data removed]",
      "text/plain": [
       "<matplotlib.figure.Figure at 0x2120a6fb0b8>"
      ]
     },
     "metadata": {},
     "output_type": "display_data"
    },
    {
     "name": "stdout",
     "output_type": "stream",
     "text": [
      "测试准确率为: 83.10%\n"
     ]
    }
   ],
   "source": [
    "import matplotlib.pyplot as plt\n",
    "from pylab import mpl\n",
    " \n",
    "mpl.rcParams['font.sans-serif'] = ['FangSong']    # 指定默认字体\n",
    "mpl.rcParams['axes.unicode_minus'] = False        # 解决保存图像是负号'-'显示为方块的问题　\n",
    "\n",
    "plt.subplot(211)\n",
    "plt.plot(list(range(len(loss_line))), loss_line, 'r')\n",
    "plt.title(\"损失函数变化趋势\")\n",
    "\n",
    "plt.subplot(212)\n",
    "plt.plot(list(range(len(acc_line))), acc_line, 'b')\n",
    "plt.title(\"训练准确率变化趋势\")\n",
    "plt.tight_layout(2)\n",
    "plt.show()\n",
    "\n",
    "X_test, y_test = mnist.train.next_batch(1000)\n",
    "x = dense1.forward(X_test)\n",
    "x = s1.forward(x)\n",
    "x = dense2.forward(x)\n",
    "x = s2.forward(x)\n",
    "\n",
    "acc = np.sum(np.argmax(x, axis=1)==np.argmax(y_test, axis=1))/len(y_test)\n",
    "print(\"测试准确率为: {:.2f}%\".format(100*acc))"
   ]
  },
  {
   "cell_type": "code",
   "execution_count": null,
   "metadata": {
    "collapsed": true
   },
   "outputs": [],
   "source": []
  }
 ],
 "metadata": {
  "anaconda-cloud": {},
  "kernelspec": {
   "display_name": "Python [conda env:Anaconda3]",
   "language": "python",
   "name": "conda-env-Anaconda3-py"
  },
  "language_info": {
   "codemirror_mode": {
    "name": "ipython",
    "version": 3
   },
   "file_extension": ".py",
   "mimetype": "text/x-python",
   "name": "python",
   "nbconvert_exporter": "python",
   "pygments_lexer": "ipython3",
   "version": "3.5.4"
  }
 },
 "nbformat": 4,
 "nbformat_minor": 1
}
